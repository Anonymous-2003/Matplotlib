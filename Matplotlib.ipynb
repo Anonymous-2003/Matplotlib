{
 "cells": [
  {
   "cell_type": "markdown",
   "id": "a43eba65",
   "metadata": {},
   "source": [
    "# Plotting time series"
   ]
  },
  {
   "cell_type": "code",
   "execution_count": null,
   "id": "9385200f",
   "metadata": {},
   "outputs": [],
   "source": [
    "import pandas as pd\n",
    "import matplotlib.pyplot as plt\n"
   ]
  },
  {
   "cell_type": "code",
   "execution_count": null,
   "id": "06616d39",
   "metadata": {},
   "outputs": [],
   "source": [
    "fig,ax = plt.subplots()\n",
    "climate_change = pd.read_csv('climate_change.csv' , parse_dates=[\"date\"] , index_col=\"date\") # making date as index\n",
    "ax.plot(climate_change.index , climate_change[\"relative_temp\"])\n",
    "plt.show()"
   ]
  },
  {
   "cell_type": "code",
   "execution_count": null,
   "id": "88927b5c",
   "metadata": {},
   "outputs": [],
   "source": [
    "fig,ax = plt.subplots()\n",
    "# Creating variable seventies with data from \"1970-01-01\" to \"1979-12-31\"\n",
    "seventies = climate_change[\"1970-01-01\":\"1979-12-31\"]\n",
    "ax.plot(seventies.index, seventies[\"co2\"])\n",
    "plt.show()"
   ]
  },
  {
   "cell_type": "markdown",
   "id": "574a16c4",
   "metadata": {},
   "source": [
    "# plotting time series with different variables"
   ]
  },
  {
   "cell_type": "markdown",
   "id": "0cc710bb",
   "metadata": {},
   "source": [
    "3. Plotting two time-series together\n",
    "\n",
    "As before, we can create a Figure and Axes and add the data from one variable to the plot. And we can add the data from the other variable to the plot. We also add axis labels and show the plot. But this doesn't look right. The line for carbon dioxide has shifted upwards, and the line for relative temperatures looks completely flat. The problem is that the scales for these two measurements are different."
   ]
  },
  {
   "cell_type": "code",
   "execution_count": null,
   "id": "42afd9f4",
   "metadata": {},
   "outputs": [],
   "source": [
    "fig, ax = plt.subplots()\n",
    "ax.plot(climate_change.index , climate_change[\"co2\"])\n",
    "ax.plot(climate_change.index , climate_change[\"relative_temp\"])\n",
    "ax.set_xlabel(\"time\")\n",
    "ax.set_ylabel(\"co2(ppm)/relative temperature\")\n",
    "plt.show()\n"
   ]
  },
  {
   "cell_type": "markdown",
   "id": "7181fe7a",
   "metadata": {},
   "source": [
    "4. Using twin axes\n",
    "\n",
    "You've already seen how you could plot these time-series in separate sub-plots. Here, we're going to plot them in the same sub-plot, using two different y-axis scales. Again, we start by adding the first variable to our Axes. Then, we use the twinx method to create a twin of this Axes. This means that the two Axes share the same x-axis, but the y-axes are separate. We add the other variable to this second Axes object and show the figure. There is one y-axis scale on the left, for the carbon dioxide variable, and another y-axis scale to the right for the temperature variable. Now you can see the fluctuations in temperature more clearly. But this is still not quite right. The two lines have the same color. Let's take care of that."
   ]
  },
  {
   "cell_type": "code",
   "execution_count": null,
   "id": "40b54bd5",
   "metadata": {},
   "outputs": [],
   "source": [
    "fig,ax = plt.subplots()\n",
    "ax.plot(climate_change.index , climate_change[\"co2\"])\n",
    "ax.set_xlabel(\"time\")\n",
    "ax.set_ylabel(\"co2(ppm)\")\n",
    "ax2 = ax.twinx()  #sharing common x-axis\n",
    "ax2.plot(climate_change.index, climate_change[\"relative_temp\"])\n",
    "ax2.set_ylabel(\"Relative temperature\")\n",
    "plt.show()"
   ]
  },
  {
   "cell_type": "markdown",
   "id": "38848acd",
   "metadata": {},
   "source": [
    "5. Separating variables and graphs by color"
   ]
  },
  {
   "cell_type": "code",
   "execution_count": null,
   "id": "a2b4cf51",
   "metadata": {},
   "outputs": [],
   "source": [
    "fig,ax = plt.subplots()\n",
    "ax.plot(climate_change.index , climate_change[\"co2\"] , color = \"red\")\n",
    "ax.set_xlabel(\"time\")\n",
    "ax.set_ylabel(\"co2(ppm)\", color = \"red\")\n",
    "ax2 = ax.twinx()  #sharing common x-axis\n",
    "ax2.plot(climate_change.index, climate_change[\"relative_temp\"] , color = \"blue\")\n",
    "ax2.set_ylabel(\"Relative temperature\" , color = \"blue\")\n",
    "plt.show()"
   ]
  },
  {
   "cell_type": "markdown",
   "id": "15efa6e3",
   "metadata": {},
   "source": [
    "6. Coloring the ticks\n",
    "\n",
    "We can make encoding by color even more distinct by setting not only the color of the y-axis labels but also the y-axis ticks and the y-axis tick labels. This is done by adding a call to the tick-underscore-params method. This method takes either y or x as its first argument, pointing to the fact that we are modifying the parameters of the y-axis ticks and tick labels. To change their color, we use the colors key-word argument, setting it to blue. Similarly, we call the tick-underscore-params method from the twin Axes object, setting the colors for these ticks to red."
   ]
  },
  {
   "cell_type": "code",
   "execution_count": null,
   "id": "f9f88421",
   "metadata": {
    "scrolled": true
   },
   "outputs": [],
   "source": [
    "fig , ax = plt.subplots()\n",
    "ax.plot(climate_change.index , climate_change[\"co2\"],color = \"blue\")\n",
    "ax.set_xlabel(\"TIME\")\n",
    "ax.set_ylabel(\"co2(ppm)\", color = \"blue\")\n",
    "ax.tick_params('y',colors = \"blue\")\n",
    "ax2 = ax.twinx()\n",
    "ax2.plot(climate_change.index , climate_change[\"relative_temp\"],color = \"red\")\n",
    "ax2.set_ylabel(\"Relative Temperature\" , color = \"red\")\n",
    "ax2.tick_params('y',colors = \"red\")\n",
    "plt.show()\n"
   ]
  },
  {
   "cell_type": "markdown",
   "id": "c2a29c66",
   "metadata": {},
   "source": [
    "Plotting the above graph using function to reduce repition of code"
   ]
  },
  {
   "cell_type": "code",
   "execution_count": null,
   "id": "4b29d479",
   "metadata": {},
   "outputs": [],
   "source": [
    "def plot_graph(axes,x,y,xlabel,ylabel,color):\n",
    "    axes.plot(x,y,color = color)\n",
    "    axes.set_xlabel(xlabel)\n",
    "    axes.set_ylabel(ylabel,color = color)\n",
    "    axes.tick_params('y',colors = color)\n",
    "\n",
    "fig , ax = plt.subplots()\n",
    "plot_graph(ax,climate_change.index,climate_change[\"co2\"],\"time\",\"co2(ppm)\",\"red\")\n",
    "ax2 = ax.twinx()\n",
    "plot_graph(ax2,climate_change.index,climate_change[\"relative_temp\"],\"time\",\"Relative Temperature\",\"blue\")"
   ]
  },
  {
   "cell_type": "markdown",
   "id": "81c672e8",
   "metadata": {},
   "source": [
    "##### annotating time series data\n",
    "\n",
    "for example, consider the data that we saw in previous code. This data shows the levels of measured carbon dioxide in the atmosphere over a period of more than 50 years in red and the relative temperature over the same period of time in blue. That's a lot of data, and, when presenting it, you might want to focus attention on a particular aspect of this data."
   ]
  },
  {
   "cell_type": "markdown",
   "id": "888b29b0",
   "metadata": {},
   "source": [
    "For example, let's say that we noticed that the first date in which the relative temperature exceeded 1 degree Celsius was October 6th, 2015. We'd like to point this out in the plot."
   ]
  },
  {
   "cell_type": "markdown",
   "id": "e3fa80ed",
   "metadata": {},
   "source": [
    "Here again is the code that generates the plot, using the function that we implemented previously. Next, we call a method of the Axes object called annotate. At the very least, this function takes the annotation text as input, in this case, the string \">1 degree\", and the xy coordinate that we would like to annotate. Here, the value to annotate has the x position of the TimeStamp of that date. We use the pandas time-stamp object to define that. The y position of the data is 1, which is the 1 degree Celsius value at that date. But this doesn't look great. The text appears on top of the axis tick labels. Maybe we can move it somewhere else?"
   ]
  },
  {
   "cell_type": "code",
   "execution_count": null,
   "id": "35f7b087",
   "metadata": {},
   "outputs": [],
   "source": [
    "def plot_graph(axes,x,y,xlabel,ylabel,color):\n",
    "    axes.plot(x,y,color = color)\n",
    "    axes.set_xlabel(xlabel)\n",
    "    axes.set_ylabel(ylabel,color = color)\n",
    "    axes.tick_params('y',colors = color)\n",
    "\n",
    "fig , ax = plt.subplots()\n",
    "plot_graph(ax,climate_change.index,climate_change[\"co2\"],\"time\",\"co2(ppm)\",\"red\")\n",
    "ax2 = ax.twinx()\n",
    "plot_graph(ax2,climate_change.index,climate_change[\"relative_temp\"],\"time\",\"Relative Temperature\",\"blue\")\n",
    "ax2.annotate(\"greater than 1 dgree\" ,xy = (pd.Timestamp(\"2015-10-06\"),1))"
   ]
  },
  {
   "cell_type": "markdown",
   "id": "317b89aa",
   "metadata": {},
   "source": [
    "#####  Positioning the text\n",
    "\n",
    "The annotate method takes an optional xy text argument that selects the xy position of the text. After some experimentation, we've found that an x value of October 6th, 2008 and a y value of negative 0-point-2 degrees is a good place to put the text. The problem now is that there is no way to see which data point is the one that is being annotated. Let's add an arrow that connects the text to the data."
   ]
  },
  {
   "cell_type": "code",
   "execution_count": null,
   "id": "0bfcbb5c",
   "metadata": {},
   "outputs": [],
   "source": [
    "def plot_graph(axes,x,y,xlabel,ylabel,color):\n",
    "    axes.plot(x,y,color = color)\n",
    "    axes.set_xlabel(xlabel)\n",
    "    axes.set_ylabel(ylabel,color = color)\n",
    "    axes.tick_params('y',colors = color)\n",
    "\n",
    "fig , ax = plt.subplots()\n",
    "plot_graph(ax,climate_change.index,climate_change[\"co2\"],\"time\",\"co2(ppm)\",\"red\")\n",
    "ax2 = ax.twinx()\n",
    "plot_graph(ax2,climate_change.index,climate_change[\"relative_temp\"],\"time\",\"Relative Temperature\",\"blue\")\n",
    "ax2.annotate(\"greater than 1 dgree\" ,\n",
    "             xy = (pd.Timestamp(\"2015-10-06\"),1),\n",
    "             xytext=(pd.Timestamp(\"2008-10-06\"),-0.2))\n"
   ]
  },
  {
   "cell_type": "markdown",
   "id": "58455dbe",
   "metadata": {},
   "source": [
    "5. Adding arrows to annotation\n",
    "\n",
    "To connect between the annotation text and the annotated data, we can add an arrow. The key-word argument to do this is called arrowprops, which stands for arrow properties. This key-word argument takes as input a dictionary that defines the properties of the arrow that we would like to use. If we pass an empty dictionary into the key-word argument, the arrow will have the default properties, as shown here."
   ]
  },
  {
   "cell_type": "code",
   "execution_count": null,
   "id": "3ba23744",
   "metadata": {},
   "outputs": [],
   "source": [
    "def plot_graph(axes,x,y,xlabel,ylabel,color):\n",
    "    axes.plot(x,y,color = color)\n",
    "    axes.set_xlabel(xlabel)\n",
    "    axes.set_ylabel(ylabel,color = color)\n",
    "    axes.tick_params('y',colors = color)\n",
    "\n",
    "fig , ax = plt.subplots()\n",
    "plot_graph(ax,climate_change.index,climate_change[\"co2\"],\"time\",\"co2(ppm)\",\"red\")\n",
    "ax2 = ax.twinx()\n",
    "plot_graph(ax2,climate_change.index,climate_change[\"relative_temp\"],\"time\",\"Relative Temperature\",\"blue\")\n",
    "ax2.annotate(\"greater than 1 dgree\" ,\n",
    "             xy = (pd.Timestamp(\"2015-10-06\"),1),\n",
    "             xytext=(pd.Timestamp(\"2008-10-06\"),-0.2),\n",
    "#             arrowprops={}, # shows the default arrow\n",
    "            #coustumizing arrow properties\n",
    "            arrowprops ={\"arrowstyle\":\"->\",\"color\": \"grey\"} )"
   ]
  },
  {
   "cell_type": "markdown",
   "id": "6b607052",
   "metadata": {},
   "source": [
    "## Quantitative comparisons and statistical visualizations"
   ]
  },
  {
   "cell_type": "code",
   "execution_count": null,
   "id": "dc99decf",
   "metadata": {},
   "outputs": [],
   "source": [
    "medals = pd.read_csv('medals_by_country_2016.csv', index_col=0) # using the first column, which contains the country names, as the index for the DataFrame.\n",
    "# country names doesn't have any column name so index_col = 0"
   ]
  },
  {
   "cell_type": "code",
   "execution_count": null,
   "id": "088288e2",
   "metadata": {},
   "outputs": [],
   "source": [
    "medals\n"
   ]
  },
  {
   "cell_type": "markdown",
   "id": "852a0758",
   "metadata": {},
   "source": [
    " Next, we can visualize the data about gold medals. We create a Figure and an Axes object and call the Axes bar method to create a bar chart. This chart shows a bar for every row in the \"Gold\" column of the DataFrame, where the height of the bar represents the number in that row. The labels of the x-axis ticks correspond to the index of the DataFrame, which contains the names of the different countries in the data table"
   ]
  },
  {
   "cell_type": "code",
   "execution_count": null,
   "id": "b3361bdd",
   "metadata": {},
   "outputs": [],
   "source": [
    "fig ,ax = plt.subplots()\n",
    "ax.bar(medals.index,medals[\"Gold\"])\n",
    "plt.show()"
   ]
  },
  {
   "cell_type": "markdown",
   "id": "54d17b2d",
   "metadata": {},
   "source": [
    "Unfortunately, these names are rather long, so they overlap with each other. Let's fix that first.\n",
    "To fix these labels, we can rotate them by 90 degrees. This is done by using the set-underscore-xticklabels method of the Axes. \n"
   ]
  },
  {
   "cell_type": "code",
   "execution_count": null,
   "id": "cb82c98f",
   "metadata": {},
   "outputs": [],
   "source": [
    "fig ,ax = plt.subplots()\n",
    "ax.bar(medals.index,medals[\"Gold\"])\n",
    "ax.set_xticklabels(medals.index,rotation = 90)\n",
    "ax.set_ylabel(\"Number of golds\")\n",
    "plt.show()"
   ]
  },
  {
   "cell_type": "markdown",
   "id": "7f54b5f9",
   "metadata": {},
   "source": [
    " visualizing the other medals\n",
    "\n",
    "Next, we would like to add the data about the other medals: Silver and Bronze. To add this information into the same plot, we'll create a stacked bar chart. This means that each new data will be stacked on top of the previous data. It starts the same way as before. Next, we add another call to the bar method to add the data from the \"Silver\" column of the DataFrame. We add the bottom key-word argument to tell Matplotlib that the bottom of this column's data should be at the height of the previous column's data. We add the x-axis tick labels, rotating them by 90 degrees, set the y-axis labels, and call plt-dot-show."
   ]
  },
  {
   "cell_type": "code",
   "execution_count": null,
   "id": "dd816292",
   "metadata": {},
   "outputs": [],
   "source": [
    "fig ,ax = plt.subplots()\n",
    "ax.bar(medals.index,medals[\"Gold\"])\n",
    "ax.bar(medals.index,medals[\"Silver\"],bottom = medals[\"Gold\"])\n",
    "ax.bar(medals.index,medals[\"Bronze\"],bottom = medals[\"Silver\"]+medals[\"Gold\"])\n",
    "ax.set_xticklabels(medals.index,rotation = 90)\n",
    "ax.set_ylabel(\"Number of golds\")\n",
    "plt.show()"
   ]
  },
  {
   "cell_type": "markdown",
   "id": "9dd5e4da",
   "metadata": {},
   "source": [
    "Adding a legend\n",
    "\n",
    "The first is to add the label key-word argument to each call of the bar method with the label for the bars plotted in this call. The second is to add a call to the Axes legend method before calling show. This adds in a legend that tells us which color stands for which medal"
   ]
  },
  {
   "cell_type": "code",
   "execution_count": null,
   "id": "4225c107",
   "metadata": {},
   "outputs": [],
   "source": [
    "fig ,ax = plt.subplots()\n",
    "ax.bar(medals.index,medals[\"Gold\"],label = \"Gold\")\n",
    "ax.bar(medals.index,medals[\"Silver\"],bottom = medals[\"Gold\"],label = \"Silver\")\n",
    "ax.bar(medals.index,medals[\"Bronze\"],bottom = medals[\"Silver\"]+medals[\"Gold\"],label = \"Bronze\")\n",
    "ax.set_xticklabels(medals.index,rotation = 90)\n",
    "ax.set_ylabel(\"Number of golds\")\n",
    "ax.legend()\n",
    "plt.show()"
   ]
  },
  {
   "cell_type": "markdown",
   "id": "7c2b6775",
   "metadata": {},
   "source": [
    "### Quantitative comparisons: histograms"
   ]
  },
  {
   "cell_type": "code",
   "execution_count": null,
   "id": "6250c13c",
   "metadata": {},
   "outputs": [],
   "source": [
    "olympic_2016 = pd.read_csv('summer2016.csv')"
   ]
  },
  {
   "cell_type": "code",
   "execution_count": null,
   "id": "962d5ee5",
   "metadata": {},
   "outputs": [],
   "source": [
    "olympic_2016.columns"
   ]
  },
  {
   "cell_type": "code",
   "execution_count": null,
   "id": "bc7487d6",
   "metadata": {},
   "outputs": [],
   "source": [
    "gymnastic = olympic_2016[(olympic_2016['Sport'] == 'Gymnastics') & (olympic_2016['Sex']=='M') ]\n",
    "mens_gymnastic = gymnastic.head()\n",
    "# extracting first five datas of men who won Gymnastics"
   ]
  },
  {
   "cell_type": "code",
   "execution_count": null,
   "id": "7fc294de",
   "metadata": {},
   "outputs": [],
   "source": [
    "mens_gymnastic"
   ]
  },
  {
   "cell_type": "code",
   "execution_count": null,
   "id": "91a685a0",
   "metadata": {},
   "outputs": [],
   "source": [
    "rowing = olympic_2016[(olympic_2016['Sport'] =='Rowing') & (olympic_2016['Sex']=='M') ]\n",
    "mens_rowing = rowing.head()\n",
    "# extracting first five datas of men who won Rowing"
   ]
  },
  {
   "cell_type": "code",
   "execution_count": null,
   "id": "3cc0d814",
   "metadata": {},
   "outputs": [],
   "source": [
    "mens_rowing"
   ]
  },
  {
   "cell_type": "markdown",
   "id": "5abefa66",
   "metadata": {},
   "source": [
    "#### Introducing Histogram"
   ]
  },
  {
   "cell_type": "code",
   "execution_count": null,
   "id": "572b4198",
   "metadata": {},
   "outputs": [],
   "source": [
    "fig,ax = plt.subplots()\n",
    "ax.hist(rowing[\"Height\"] , label = \"Mens Rowing\")\n",
    "ax.hist(gymnastic[\"Height\"],label = \"Mens Gymnastic\") \n",
    "ax.set_xlabel(\"Height(cm)\")\n",
    "ax.set_ylabel(\"Observation\")\n",
    "ax.legend()\n",
    "plt.show()"
   ]
  },
  {
   "cell_type": "markdown",
   "id": "4e8de9c6",
   "metadata": {},
   "source": [
    "In the histogram shown, the x-axis is the values within the variable and the height of the bars represents the number of observations within a particular bin of values. For example, there are 12 gymnasts with heights between 164 and 167 centimeters, so the highest bar in the orange histogram is 12 units high. Similarly, there are 20 rowers with heights between 188 and 192 centimeters, and the highest bar in the blue histogram is 20 units high."
   ]
  },
  {
   "cell_type": "markdown",
   "id": "db10b334",
   "metadata": {},
   "source": [
    "looking at this figure, you might wonder whether there are any rowing medalists with a height of less than 180 centimeters. This is hard to tell because the bars for the gymnastics histogram are occluding this information."
   ]
  },
  {
   "cell_type": "markdown",
   "id": "50b0846e",
   "metadata": {},
   "source": [
    "The occlusion can be eliminated by changing the type of histogram that is used. Instead of the \"bar\" type that is used per default, you can specify a histtype of \"step\", which displays the histogram as thin lines, instead of solid bars,"
   ]
  },
  {
   "cell_type": "code",
   "execution_count": null,
   "id": "b65831ed",
   "metadata": {},
   "outputs": [],
   "source": [
    "fig,ax = plt.subplots()\n",
    "ax.hist(rowing[\"Height\"] , \n",
    "        label = \"Mens Rowing\", \n",
    "        bins = [150,160,170,180,190,200,210],\n",
    "       histtype='step') # we can also provide integer value to bins\n",
    "ax.hist(gymnastic[\"Height\"],\n",
    "        label = \"Mens Gymnastic\", \n",
    "        bins = [150,160,170,180,190,200,210],\n",
    "       histtype='step') # if not matplotlib automatically divides\n",
    "ax.set_xlabel(\"Height(cm)\")\n",
    "ax.set_ylabel(\"Observation\")\n",
    "ax.legend()\n",
    "plt.show()"
   ]
  },
  {
   "cell_type": "markdown",
   "id": "99804f1d",
   "metadata": {},
   "source": [
    "exposing that yes: there are rowers with a height of less than 180 centimeters."
   ]
  },
  {
   "cell_type": "markdown",
   "id": "53063b27",
   "metadata": {},
   "source": [
    "##### Adding error bars to bar charts"
   ]
  },
  {
   "cell_type": "code",
   "execution_count": null,
   "id": "6c5cafe3",
   "metadata": {
    "scrolled": true
   },
   "outputs": [],
   "source": [
    "fig , ax = plt.subplots()\n",
    "ax.bar(\"rowing\",\n",
    "        mens_rowing[\"Height\"].mean(),\n",
    "        yerr = mens_rowing[\"Height\"].std())\n",
    "ax.bar(\"Gymnastic\",\n",
    "        mens_gymnastic[\"Height\"].mean(),\n",
    "        yerr = mens_gymnastic[\"Height\"].std())\n",
    "ax.set_ylabel(\"Height(cm)\")\n",
    "plt.show()"
   ]
  },
  {
   "cell_type": "markdown",
   "id": "3bbefc81",
   "metadata": {},
   "source": [
    "4. Adding error bars to plots\n",
    "\n",
    "We can also add error bars to a line plot. For example, let's look at the weather data . To plot this data with error bars, we will use the Axes errorbar method. Like the plot method, this method takes a sequence of x values, in this case, the \"MONTH\" column, and a sequence of y values, in this case, the column with the normal average monthly temperatures. In addition, a yerr key-word argument can take the column in the data that contains the standard deviations of the average monthly temperatures"
   ]
  },
  {
   "cell_type": "code",
   "execution_count": null,
   "id": "a4c29032",
   "metadata": {},
   "outputs": [],
   "source": [
    "seattle_weather = pd.read_csv('seattle_weather.csv')\n",
    "austin_weather = pd.read_csv('austin_weather.csv')"
   ]
  },
  {
   "cell_type": "code",
   "execution_count": null,
   "id": "92a1e392",
   "metadata": {},
   "outputs": [],
   "source": [
    "# fig , ax = plt.subplots()\n",
    "# ax.errorbar(seattle_weather[\"MONTH\"],\n",
    "#             seattle_weather[\"MLY-TAVG-NORMAL\"],\n",
    "#             yerr = seattle_weather[\"MLY-TAVG-STDDEV\"])\n",
    "# ax.errorbar(austin_weather[\"MONTH\"],\n",
    "#             austin_weather[\"MLY-TAVG-NORMAL\"],\n",
    "#             yerr = austin_weather[\"MLY-TAVG-STDDEV\"])\n",
    "# plt.show()"
   ]
  },
  {
   "cell_type": "markdown",
   "id": "0b58a3c7",
   "metadata": {},
   "source": [
    "##### Adding Boxplot"
   ]
  },
  {
   "cell_type": "code",
   "execution_count": null,
   "id": "90657d57",
   "metadata": {},
   "outputs": [],
   "source": [
    "fig , ax = plt.subplots()\n",
    "ax.boxplot([mens_rowing[\"Height\"],\n",
    "            mens_gymnastic[\"Height\"]])\n",
    "ax.set_xticklabels([\"Rowing\",\"Gymnastics\"])\n",
    "ax.set_ylabel(\"Height (cm)\")\n",
    "plt.show()"
   ]
  },
  {
   "cell_type": "markdown",
   "id": "0bb84254",
   "metadata": {},
   "source": [
    "#### Scatter plots"
   ]
  },
  {
   "cell_type": "code",
   "execution_count": null,
   "id": "c5ee95bc",
   "metadata": {},
   "outputs": [],
   "source": [
    "fig , ax = plt.subplots()\n",
    "ax.scatter(climate_change[\"co2\"],climate_change[\"relative_temp\"])\n",
    "ax.set_xlabel(\"co2 (ppm)\")\n",
    "ax.set_ylabel(\"Relative temperature\")\n",
    "plt.show()"
   ]
  },
  {
   "cell_type": "code",
   "execution_count": null,
   "id": "fca76f5a",
   "metadata": {},
   "outputs": [],
   "source": [
    "fig , ax = plt.subplots()\n",
    "eighties = climate_change[\"1980-01-01\":\"1989-12-31\"]\n",
    "nineties = climate_change[\"1990-01-01\":\"1999-12-31\"]\n",
    "\n",
    "ax.scatter(eighties[\"co2\"],eighties[\"relative_temp\"],label = \"eighties\",color = \"red\")\n",
    "ax.scatter(nineties[\"co2\"],nineties[\"relative_temp\"],label = \"nineties\",color = \"blue\")\n",
    "ax.legend()\n",
    "ax.set_xlabel(\"co2 (ppm)\")\n",
    "ax.set_ylabel(\"Relative temperature\")\n",
    "plt.show()"
   ]
  },
  {
   "cell_type": "markdown",
   "id": "89e95455",
   "metadata": {},
   "source": [
    "if we enter the index as input to the c key-word argument, this variable will get encoded as color. Note that this is not the color key-word argument that we used before, but is instead just the letter c. As before, we set the axis labels and call plt-dot-show.\n",
    "\n",
    " Encoding time in color\n",
    "\n",
    "Now, time of the measurements is encoded in the brightness of the color applied to the points, with dark blue points early on and later points in bright yellow"
   ]
  },
  {
   "cell_type": "code",
   "execution_count": null,
   "id": "78d1958e",
   "metadata": {},
   "outputs": [],
   "source": [
    "fig , ax = plt.subplots()\n",
    "ax.scatter(climate_change[\"co2\"],climate_change[\"relative_temp\"],c=climate_change.index)\n",
    "ax.set_xlabel(\"co2 (ppm)\")\n",
    "ax.set_ylabel(\"Relative temperature\")\n",
    "plt.show()"
   ]
  },
  {
   "cell_type": "markdown",
   "id": "2087a36d",
   "metadata": {},
   "source": [
    "##### saving figure to a file"
   ]
  },
  {
   "cell_type": "code",
   "execution_count": null,
   "id": "23140cea",
   "metadata": {},
   "outputs": [],
   "source": [
    "fig , ax = plt.subplots()\n",
    "ax.scatter(climate_change[\"co2\"],climate_change[\"relative_temp\"],c=climate_change.index)\n",
    "ax.set_xlabel(\"co2 (ppm)\")\n",
    "ax.set_ylabel(\"Relative temperature\")\n",
    "fig.set_size_inches([5,3]) # width and height\n",
    "fig.savefig(\"climate_change0.jpg\")\n",
    "fig.savefig(\"climate_change1.png\" , dpi = 300) # setting resolution\n"
   ]
  },
  {
   "cell_type": "code",
   "execution_count": null,
   "id": "5a9e309a",
   "metadata": {},
   "outputs": [],
   "source": [
    "Sports = olympic_2016[\"Sport\"].unique() # getting unique values from a column\n",
    "# bar charts of height for all the sports\n",
    "fig , ax = plt.subplots()\n",
    "for sport in Sports:\n",
    "    sport_df = olympic_2016[olympic_2016[\"Sport\"] == sport ]\n",
    "    ax.bar(sport,sport_df[\"Height\"].mean(),\n",
    "    yerr = sport_df[\"Height\"].std())\n",
    "ax.set_ylabel(\"Height (cm)\")\n",
    "ax.set_xticklabels(Sports , rotation = 90)\n",
    "plt.show()"
   ]
  },
  {
   "cell_type": "code",
   "execution_count": null,
   "id": "0d942125",
   "metadata": {},
   "outputs": [],
   "source": []
  }
 ],
 "metadata": {
  "kernelspec": {
   "display_name": "Python 3 (ipykernel)",
   "language": "python",
   "name": "python3"
  },
  "language_info": {
   "codemirror_mode": {
    "name": "ipython",
    "version": 3
   },
   "file_extension": ".py",
   "mimetype": "text/x-python",
   "name": "python",
   "nbconvert_exporter": "python",
   "pygments_lexer": "ipython3",
   "version": "3.11.5"
  }
 },
 "nbformat": 4,
 "nbformat_minor": 5
}
